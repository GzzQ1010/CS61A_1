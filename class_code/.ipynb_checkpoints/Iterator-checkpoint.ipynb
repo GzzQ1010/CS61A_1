{
 "cells": [
  {
   "cell_type": "markdown",
   "id": "a382e060-b4b1-4ddf-93b2-21c55f2203c8",
   "metadata": {},
   "source": [
    "## Iterator /n\n",
    "a containter can provide an iterator that provides access to its elements in some order. \\\n",
    "iter(iterable): Return an iterator over the elements of an iterable value \\\n",
    "next(iterator):return the next element in an iterator\n"
   ]
  },
  {
   "cell_type": "code",
   "execution_count": 1,
   "id": "796e634c-74cd-4e35-9d74-eb50790782b8",
   "metadata": {
    "tags": []
   },
   "outputs": [],
   "source": [
    "s=[[1,2],3,4,5]\n"
   ]
  },
  {
   "cell_type": "code",
   "execution_count": 2,
   "id": "df5675eb-7070-4d18-a98c-13090ec99de0",
   "metadata": {
    "tags": []
   },
   "outputs": [
    {
     "ename": "TypeError",
     "evalue": "'list' object is not an iterator",
     "output_type": "error",
     "traceback": [
      "\u001b[1;31m---------------------------------------------------------------------------\u001b[0m",
      "\u001b[1;31mTypeError\u001b[0m                                 Traceback (most recent call last)",
      "Cell \u001b[1;32mIn[2], line 1\u001b[0m\n\u001b[1;32m----> 1\u001b[0m \u001b[38;5;28mnext\u001b[39m(s)\n",
      "\u001b[1;31mTypeError\u001b[0m: 'list' object is not an iterator"
     ]
    }
   ],
   "source": [
    "next(s)"
   ]
  },
  {
   "cell_type": "code",
   "execution_count": 4,
   "id": "aeb80469-7c20-4257-898c-52724294be87",
   "metadata": {
    "tags": []
   },
   "outputs": [
    {
     "data": {
      "text/plain": [
       "[1, 2]"
      ]
     },
     "execution_count": 4,
     "metadata": {},
     "output_type": "execute_result"
    }
   ],
   "source": [
    "t=iter(s)\n",
    "next(t)"
   ]
  },
  {
   "cell_type": "code",
   "execution_count": 5,
   "id": "c9c20b0d-5c06-4b5d-87ab-f0596a700267",
   "metadata": {
    "tags": []
   },
   "outputs": [
    {
     "data": {
      "text/plain": [
       "3"
      ]
     },
     "execution_count": 5,
     "metadata": {},
     "output_type": "execute_result"
    }
   ],
   "source": [
    "next(t)"
   ]
  },
  {
   "cell_type": "code",
   "execution_count": 6,
   "id": "ea6dadfa-3bf8-4a7b-8706-9b8b85f4616f",
   "metadata": {
    "tags": []
   },
   "outputs": [
    {
     "data": {
      "text/plain": [
       "4"
      ]
     },
     "execution_count": 6,
     "metadata": {},
     "output_type": "execute_result"
    }
   ],
   "source": [
    "next(t)"
   ]
  },
  {
   "cell_type": "code",
   "execution_count": 8,
   "id": "16f5bd64-8a9c-4831-93d1-3f1dddbdf19b",
   "metadata": {
    "tags": []
   },
   "outputs": [
    {
     "data": {
      "text/plain": [
       "[5]"
      ]
     },
     "execution_count": 8,
     "metadata": {},
     "output_type": "execute_result"
    }
   ],
   "source": [
    "list(t)"
   ]
  },
  {
   "cell_type": "code",
   "execution_count": 10,
   "id": "59500213-0c3f-4a05-a3a4-ab18218a1dc8",
   "metadata": {
    "tags": []
   },
   "outputs": [
    {
     "ename": "StopIteration",
     "evalue": "",
     "output_type": "error",
     "traceback": [
      "\u001b[1;31m---------------------------------------------------------------------------\u001b[0m",
      "\u001b[1;31mStopIteration\u001b[0m                             Traceback (most recent call last)",
      "Cell \u001b[1;32mIn[10], line 1\u001b[0m\n\u001b[1;32m----> 1\u001b[0m \u001b[38;5;28mnext\u001b[39m(t)\n",
      "\u001b[1;31mStopIteration\u001b[0m: "
     ]
    }
   ],
   "source": [
    "next(t) ## report StopIteration--> iterator reach the end "
   ]
  },
  {
   "cell_type": "markdown",
   "id": "e11cd42e-96ff-42aa-8334-aaec6907faa0",
   "metadata": {},
   "source": [
    "### Dictionary Iteration\n",
    "**all iterator are mutable** \\\n",
    "A dictionary, its keys, its values, and its items are all iterable values. \\\n",
    "The oreder of items in a dictionary is the order in which they were added(python 3.6+)\\\n",
    "Historically, items appeared in an arbitary order"
   ]
  },
  {
   "cell_type": "code",
   "execution_count": 11,
   "id": "71beb722-1a31-4bca-b234-b54bbd926a76",
   "metadata": {
    "tags": []
   },
   "outputs": [],
   "source": [
    "d={\"one\":1,\"two\":2,\"three\":3}\n",
    "d[\"zero\"]=0"
   ]
  },
  {
   "cell_type": "code",
   "execution_count": 12,
   "id": "05f10897-3638-4615-b94e-a67591707266",
   "metadata": {
    "tags": []
   },
   "outputs": [],
   "source": [
    "k=iter(d.keys())# or iter(d)\n"
   ]
  },
  {
   "cell_type": "code",
   "execution_count": 13,
   "id": "862edce1-5884-4012-afb8-d9f2b4e40404",
   "metadata": {
    "tags": []
   },
   "outputs": [
    {
     "data": {
      "text/plain": [
       "'one'"
      ]
     },
     "execution_count": 13,
     "metadata": {},
     "output_type": "execute_result"
    }
   ],
   "source": [
    "next(k)"
   ]
  },
  {
   "cell_type": "code",
   "execution_count": 14,
   "id": "993a6a28-a096-46a3-b132-9bfb79de4f80",
   "metadata": {
    "tags": []
   },
   "outputs": [
    {
     "data": {
      "text/plain": [
       "'two'"
      ]
     },
     "execution_count": 14,
     "metadata": {},
     "output_type": "execute_result"
    }
   ],
   "source": [
    "next(k)"
   ]
  },
  {
   "cell_type": "code",
   "execution_count": 15,
   "id": "fa0354a6-6f76-4119-a5ef-6b2bfe8ec6fb",
   "metadata": {
    "tags": []
   },
   "outputs": [
    {
     "data": {
      "text/plain": [
       "1"
      ]
     },
     "execution_count": 15,
     "metadata": {},
     "output_type": "execute_result"
    }
   ],
   "source": [
    "v=iter(d.values())\n",
    "next(v)"
   ]
  },
  {
   "cell_type": "code",
   "execution_count": 16,
   "id": "5b6afe71-3b98-4ec1-a0ca-f68f2766a82c",
   "metadata": {
    "tags": []
   },
   "outputs": [
    {
     "data": {
      "text/plain": [
       "2"
      ]
     },
     "execution_count": 16,
     "metadata": {},
     "output_type": "execute_result"
    }
   ],
   "source": [
    "next(v)"
   ]
  },
  {
   "cell_type": "code",
   "execution_count": 17,
   "id": "47911f0d-89ff-4669-a635-12192cf096e8",
   "metadata": {
    "tags": []
   },
   "outputs": [
    {
     "data": {
      "text/plain": [
       "('one', 1)"
      ]
     },
     "execution_count": 17,
     "metadata": {},
     "output_type": "execute_result"
    }
   ],
   "source": [
    "i=iter(d.items())\n",
    "next(i)"
   ]
  },
  {
   "cell_type": "markdown",
   "id": "d1439889-01df-4ad8-b534-d7ba4d7aa1f2",
   "metadata": {},
   "source": [
    "**iterator size cannot be changed duing iterating**"
   ]
  },
  {
   "cell_type": "code",
   "execution_count": 18,
   "id": "4a1dd0da-d708-43d7-b102-d87ce8f434d2",
   "metadata": {
    "tags": []
   },
   "outputs": [],
   "source": [
    "d={\"one\":1,\"two\":2}\n",
    "k=iter(d)"
   ]
  },
  {
   "cell_type": "code",
   "execution_count": 19,
   "id": "cf7795f2-8571-412a-82e2-3da7807c95d7",
   "metadata": {
    "tags": []
   },
   "outputs": [
    {
     "data": {
      "text/plain": [
       "'one'"
      ]
     },
     "execution_count": 19,
     "metadata": {},
     "output_type": "execute_result"
    }
   ],
   "source": [
    "next(k)"
   ]
  },
  {
   "cell_type": "code",
   "execution_count": 21,
   "id": "12f0ce65-bdc9-4264-8a7e-2ab54c5ba747",
   "metadata": {
    "tags": []
   },
   "outputs": [],
   "source": [
    "d['zero']=0"
   ]
  },
  {
   "cell_type": "code",
   "execution_count": 22,
   "id": "438669c7-aead-4895-93ce-4dca7ed4bd83",
   "metadata": {
    "tags": []
   },
   "outputs": [
    {
     "ename": "RuntimeError",
     "evalue": "dictionary changed size during iteration",
     "output_type": "error",
     "traceback": [
      "\u001b[1;31m---------------------------------------------------------------------------\u001b[0m",
      "\u001b[1;31mRuntimeError\u001b[0m                              Traceback (most recent call last)",
      "Cell \u001b[1;32mIn[22], line 1\u001b[0m\n\u001b[1;32m----> 1\u001b[0m \u001b[38;5;28mnext\u001b[39m(k)\n",
      "\u001b[1;31mRuntimeError\u001b[0m: dictionary changed size during iteration"
     ]
    }
   ],
   "source": [
    "next(k)##error report \" dictionary changed size during iteration\" "
   ]
  },
  {
   "cell_type": "markdown",
   "id": "6c3c5c9e-e310-4687-aec0-edbb4aea4f73",
   "metadata": {},
   "source": [
    "However its value can be changed"
   ]
  },
  {
   "cell_type": "code",
   "execution_count": 23,
   "id": "afbf5d74-092e-479f-8d58-691e9e6f6231",
   "metadata": {
    "tags": []
   },
   "outputs": [
    {
     "data": {
      "text/plain": [
       "{'one': 1, 'two': 2, 'zero': 0}"
      ]
     },
     "execution_count": 23,
     "metadata": {},
     "output_type": "execute_result"
    }
   ],
   "source": [
    "d"
   ]
  },
  {
   "cell_type": "code",
   "execution_count": 28,
   "id": "a4938df3-a91b-45ef-a0b8-ab5987b42195",
   "metadata": {
    "tags": []
   },
   "outputs": [
    {
     "data": {
      "text/plain": [
       "1"
      ]
     },
     "execution_count": 28,
     "metadata": {},
     "output_type": "execute_result"
    }
   ],
   "source": [
    "k=iter(d.values())\n",
    "next(k)"
   ]
  },
  {
   "cell_type": "code",
   "execution_count": 29,
   "id": "83e164ef-6c8f-4be7-a55c-445e549c8d2c",
   "metadata": {
    "tags": []
   },
   "outputs": [
    {
     "data": {
      "text/plain": [
       "2"
      ]
     },
     "execution_count": 29,
     "metadata": {},
     "output_type": "execute_result"
    }
   ],
   "source": [
    "next(k)"
   ]
  },
  {
   "cell_type": "code",
   "execution_count": 30,
   "id": "c27f70e2-6f75-42d4-ab1a-e19dd907de47",
   "metadata": {
    "tags": []
   },
   "outputs": [
    {
     "data": {
      "text/plain": [
       "5"
      ]
     },
     "execution_count": 30,
     "metadata": {},
     "output_type": "execute_result"
    }
   ],
   "source": [
    "d['zero']=5\n",
    "next(k)"
   ]
  },
  {
   "cell_type": "markdown",
   "id": "cde71880-1cc9-40f0-aa4e-f46b370223b2",
   "metadata": {},
   "source": [
    "### For statement for iterator"
   ]
  },
  {
   "cell_type": "code",
   "execution_count": 31,
   "id": "1169ebbc-28e3-4e64-b41b-9e2c2c5b43dd",
   "metadata": {
    "tags": []
   },
   "outputs": [],
   "source": [
    "r=range(3,6)"
   ]
  },
  {
   "cell_type": "code",
   "execution_count": 32,
   "id": "12b612dd-46b1-40b6-b895-873c6cf9eb4b",
   "metadata": {
    "tags": []
   },
   "outputs": [
    {
     "data": {
      "text/plain": [
       "[3, 4, 5]"
      ]
     },
     "execution_count": 32,
     "metadata": {},
     "output_type": "execute_result"
    }
   ],
   "source": [
    "list(r) "
   ]
  },
  {
   "cell_type": "code",
   "execution_count": 33,
   "id": "3eafffcb-05cc-42cd-9d5c-e15423993ccd",
   "metadata": {
    "tags": []
   },
   "outputs": [
    {
     "name": "stdout",
     "output_type": "stream",
     "text": [
      "3\n",
      "4\n",
      "5\n"
     ]
    }
   ],
   "source": [
    "for i in r:\n",
    "    print(i)"
   ]
  },
  {
   "cell_type": "code",
   "execution_count": 34,
   "id": "930b9244-80b9-4b5e-9704-dfc4fe100709",
   "metadata": {
    "tags": []
   },
   "outputs": [
    {
     "name": "stdout",
     "output_type": "stream",
     "text": [
      "3\n",
      "4\n",
      "5\n"
     ]
    }
   ],
   "source": [
    "for i in r:\n",
    "    print(i)"
   ]
  },
  {
   "cell_type": "code",
   "execution_count": 38,
   "id": "1afef942-b573-47bc-87e1-a850609930df",
   "metadata": {
    "tags": []
   },
   "outputs": [
    {
     "data": {
      "text/plain": [
       "<range_iterator at 0x26022c82e50>"
      ]
     },
     "execution_count": 38,
     "metadata": {},
     "output_type": "execute_result"
    }
   ],
   "source": [
    "ri=iter(r)\n",
    "ri"
   ]
  },
  {
   "cell_type": "code",
   "execution_count": 39,
   "id": "b99751ff-6d68-438d-b35f-e1bf240034f7",
   "metadata": {
    "tags": []
   },
   "outputs": [
    {
     "data": {
      "text/plain": [
       "3"
      ]
     },
     "execution_count": 39,
     "metadata": {},
     "output_type": "execute_result"
    }
   ],
   "source": [
    "next(ri)##it changes everytime I call next"
   ]
  },
  {
   "cell_type": "code",
   "execution_count": 40,
   "id": "431d3649-f85b-4fa8-b08f-1bf18bdb3e73",
   "metadata": {
    "tags": []
   },
   "outputs": [
    {
     "name": "stdout",
     "output_type": "stream",
     "text": [
      "4\n",
      "5\n"
     ]
    }
   ],
   "source": [
    "for i in ri:\n",
    "    print(i)"
   ]
  },
  {
   "cell_type": "code",
   "execution_count": 41,
   "id": "7f7c8d69-7638-43d3-bdf3-e1a700cc9418",
   "metadata": {
    "tags": []
   },
   "outputs": [
    {
     "name": "stdout",
     "output_type": "stream",
     "text": [
      "3\n",
      "4\n",
      "5\n"
     ]
    }
   ],
   "source": [
    "ri=iter(r)\n",
    "for i in ri:\n",
    "    print(i)"
   ]
  },
  {
   "cell_type": "code",
   "execution_count": 42,
   "id": "0a928e0f-ec2e-4ed4-be89-0220113b0aba",
   "metadata": {
    "tags": []
   },
   "outputs": [],
   "source": [
    "for i in ri:\n",
    "    print(i)##return nothing "
   ]
  },
  {
   "cell_type": "markdown",
   "id": "3d64230c-e782-4122-8a2d-7b41e35ca311",
   "metadata": {},
   "source": [
    "## Built-in Functions for iteration\n",
    "many built-in python sequence operations return iterators that compute result lazily-- Its result is only cumputed only when it's required \\ \n",
    "ex:\\\n",
    "**map(func,iterable)**: Iterate over func(x) fir x in iterable\\\n",
    "**filter(func, iterable)**: iterate over x in iterable if func(x)"
   ]
  },
  {
   "cell_type": "code",
   "execution_count": 43,
   "id": "4903e2d3-f082-4e69-97fd-d31a8dd368dd",
   "metadata": {
    "tags": []
   },
   "outputs": [
    {
     "data": {
      "text/plain": [
       "['B', 'C', 'D']"
      ]
     },
     "execution_count": 43,
     "metadata": {},
     "output_type": "execute_result"
    }
   ],
   "source": [
    "bdc=['b','c','d']\n",
    "[x.upper() for x in bdc]"
   ]
  },
  {
   "cell_type": "code",
   "execution_count": 45,
   "id": "434c64f8-9bfa-40ee-96e6-83cfaf7eabf4",
   "metadata": {
    "tags": []
   },
   "outputs": [
    {
     "data": {
      "text/plain": [
       "<map at 0x2602222d390>"
      ]
     },
     "execution_count": 45,
     "metadata": {},
     "output_type": "execute_result"
    }
   ],
   "source": [
    "map(lambda x:x.upper(),bdc)"
   ]
  },
  {
   "cell_type": "code",
   "execution_count": 46,
   "id": "10b8ab29-4fa0-4a57-9028-4d4edc45a8db",
   "metadata": {
    "tags": []
   },
   "outputs": [],
   "source": [
    "m=map(lambda x:x.upper(),bdc)"
   ]
  },
  {
   "cell_type": "code",
   "execution_count": 47,
   "id": "b7f2b7bf-f7ff-4bae-9700-4fa472f77392",
   "metadata": {
    "tags": []
   },
   "outputs": [
    {
     "data": {
      "text/plain": [
       "'B'"
      ]
     },
     "execution_count": 47,
     "metadata": {},
     "output_type": "execute_result"
    }
   ],
   "source": [
    "next(m)"
   ]
  },
  {
   "cell_type": "code",
   "execution_count": 48,
   "id": "cbc33c1a-74a5-4d02-aebb-cf5badee1764",
   "metadata": {
    "tags": []
   },
   "outputs": [
    {
     "data": {
      "text/plain": [
       "'D'"
      ]
     },
     "execution_count": 48,
     "metadata": {},
     "output_type": "execute_result"
    }
   ],
   "source": [
    "next(m)\n",
    "next(m)"
   ]
  },
  {
   "cell_type": "code",
   "execution_count": 49,
   "id": "bde8472d-0ab0-42af-afa7-6e98b0366eb4",
   "metadata": {
    "tags": []
   },
   "outputs": [],
   "source": [
    "def double(x):\n",
    "    print('**',x,'=>',2*x,'**')\n",
    "    return 2*x"
   ]
  },
  {
   "cell_type": "code",
   "execution_count": 50,
   "id": "c8347a2f-d8a8-464d-841e-ccec350bd94b",
   "metadata": {
    "tags": []
   },
   "outputs": [
    {
     "name": "stdout",
     "output_type": "stream",
     "text": [
      "** 3 => 6 **\n"
     ]
    },
    {
     "data": {
      "text/plain": [
       "6"
      ]
     },
     "execution_count": 50,
     "metadata": {},
     "output_type": "execute_result"
    }
   ],
   "source": [
    "m=map(double,[3,5,7])\n",
    "next(m)"
   ]
  },
  {
   "cell_type": "code",
   "execution_count": 51,
   "id": "2a780bd2-cd4a-47cd-afcd-92046d8586c9",
   "metadata": {
    "tags": []
   },
   "outputs": [
    {
     "name": "stdout",
     "output_type": "stream",
     "text": [
      "** 5 => 10 **\n"
     ]
    },
    {
     "data": {
      "text/plain": [
       "10"
      ]
     },
     "execution_count": 51,
     "metadata": {},
     "output_type": "execute_result"
    }
   ],
   "source": [
    "next(m)"
   ]
  },
  {
   "cell_type": "code",
   "execution_count": 52,
   "id": "d9220adb-e532-4d47-b9aa-8b19f67b8b65",
   "metadata": {
    "tags": []
   },
   "outputs": [
    {
     "name": "stdout",
     "output_type": "stream",
     "text": [
      "** 7 => 14 **\n"
     ]
    },
    {
     "data": {
      "text/plain": [
       "14"
      ]
     },
     "execution_count": 52,
     "metadata": {},
     "output_type": "execute_result"
    }
   ],
   "source": [
    "next(m)"
   ]
  },
  {
   "cell_type": "code",
   "execution_count": 62,
   "id": "8bb9cb67-f2c5-4ddd-b499-6ec721a878dc",
   "metadata": {
    "tags": []
   },
   "outputs": [],
   "source": [
    "f=lambda y:y>=10\n",
    "m=map(double,range(3,7))\n",
    "t=filter(f,m)"
   ]
  },
  {
   "cell_type": "code",
   "execution_count": 59,
   "id": "de416664-8bf3-41a6-9978-b9227c1df09a",
   "metadata": {
    "tags": []
   },
   "outputs": [
    {
     "name": "stdout",
     "output_type": "stream",
     "text": [
      "** 3 => 6 **\n",
      "** 4 => 8 **\n",
      "** 5 => 10 **\n"
     ]
    },
    {
     "data": {
      "text/plain": [
       "10"
      ]
     },
     "execution_count": 59,
     "metadata": {},
     "output_type": "execute_result"
    }
   ],
   "source": [
    "next(t)"
   ]
  },
  {
   "cell_type": "code",
   "execution_count": 60,
   "id": "1b052b05-21fd-4292-85a5-f3c4762a18f4",
   "metadata": {
    "tags": []
   },
   "outputs": [
    {
     "name": "stdout",
     "output_type": "stream",
     "text": [
      "** 6 => 12 **\n"
     ]
    },
    {
     "data": {
      "text/plain": [
       "12"
      ]
     },
     "execution_count": 60,
     "metadata": {},
     "output_type": "execute_result"
    }
   ],
   "source": [
    "next(t)"
   ]
  },
  {
   "cell_type": "code",
   "execution_count": 61,
   "id": "687c12cc-513a-4ee4-9329-b12cfff12339",
   "metadata": {
    "tags": []
   },
   "outputs": [
    {
     "data": {
      "text/plain": [
       "[]"
      ]
     },
     "execution_count": 61,
     "metadata": {},
     "output_type": "execute_result"
    }
   ],
   "source": [
    "list(t)"
   ]
  },
  {
   "cell_type": "code",
   "execution_count": 63,
   "id": "9da98fce-bac9-4f06-91c4-6c80c23d2dd5",
   "metadata": {
    "tags": []
   },
   "outputs": [
    {
     "name": "stdout",
     "output_type": "stream",
     "text": [
      "** 3 => 6 **\n",
      "** 4 => 8 **\n",
      "** 5 => 10 **\n",
      "** 6 => 12 **\n"
     ]
    },
    {
     "data": {
      "text/plain": [
       "[10, 12]"
      ]
     },
     "execution_count": 63,
     "metadata": {},
     "output_type": "execute_result"
    }
   ],
   "source": [
    "list(filter(f,map(double,range(3,7))))"
   ]
  },
  {
   "cell_type": "markdown",
   "id": "dc05f473-1998-4a92-a00d-0e2b2de270db",
   "metadata": {},
   "source": [
    "reverse is retrun a iterator"
   ]
  },
  {
   "cell_type": "code",
   "execution_count": 65,
   "id": "9f30bee7-81b3-4a13-8492-2e51e0b8d893",
   "metadata": {
    "tags": []
   },
   "outputs": [],
   "source": [
    "t=[1,2,3,2,1]"
   ]
  },
  {
   "cell_type": "code",
   "execution_count": 66,
   "id": "cb57f1af-0733-4157-9a87-d585d9b1045b",
   "metadata": {
    "tags": []
   },
   "outputs": [
    {
     "data": {
      "text/plain": [
       "False"
      ]
     },
     "execution_count": 66,
     "metadata": {},
     "output_type": "execute_result"
    }
   ],
   "source": [
    "reversed(t)==t"
   ]
  },
  {
   "cell_type": "code",
   "execution_count": 67,
   "id": "803a0408-3451-4980-86d1-b81dadd26c32",
   "metadata": {
    "tags": []
   },
   "outputs": [
    {
     "data": {
      "text/plain": [
       "list_reverseiterator"
      ]
     },
     "execution_count": 67,
     "metadata": {},
     "output_type": "execute_result"
    }
   ],
   "source": [
    "type(reversed(t))"
   ]
  },
  {
   "cell_type": "code",
   "execution_count": 68,
   "id": "fecc24aa-026a-4a0c-a381-5f287e84b4d1",
   "metadata": {
    "tags": []
   },
   "outputs": [
    {
     "data": {
      "text/plain": [
       "True"
      ]
     },
     "execution_count": 68,
     "metadata": {},
     "output_type": "execute_result"
    }
   ],
   "source": [
    "list(reversed(t))==t"
   ]
  },
  {
   "cell_type": "markdown",
   "id": "b4f28e65-2d67-4f38-a0cc-811ed1a9a102",
   "metadata": {},
   "source": [
    "### Zip "
   ]
  },
  {
   "cell_type": "code",
   "execution_count": 70,
   "id": "705490af-52c6-44a7-a2d1-dadf42a07f31",
   "metadata": {
    "tags": []
   },
   "outputs": [
    {
     "data": {
      "text/plain": [
       "[(1, 3), (2, 4)]"
      ]
     },
     "execution_count": 70,
     "metadata": {},
     "output_type": "execute_result"
    }
   ],
   "source": [
    "##The built-in zip function returns an iterator over co-indexed tuples\n",
    "list(zip([1,2],[3,4])) "
   ]
  },
  {
   "cell_type": "markdown",
   "id": "5a00a5ee-26ba-4c3b-890f-dd34bba72a04",
   "metadata": {},
   "source": [
    "if one iterable is longer than the other, zip only iterates over matches and skips extras"
   ]
  },
  {
   "cell_type": "code",
   "execution_count": 71,
   "id": "23def0de-b61f-48b4-a12e-d0ede1aef1dd",
   "metadata": {
    "tags": []
   },
   "outputs": [
    {
     "data": {
      "text/plain": [
       "[(1, 3), (2, 4)]"
      ]
     },
     "execution_count": 71,
     "metadata": {},
     "output_type": "execute_result"
    }
   ],
   "source": [
    "list(zip([1,2],[3,4,5]))"
   ]
  },
  {
   "cell_type": "markdown",
   "id": "c6f71832-26c3-4858-94d0-cc6e3a483cf1",
   "metadata": {},
   "source": [
    "More than two iterables can be passed to zip "
   ]
  },
  {
   "cell_type": "code",
   "execution_count": 73,
   "id": "565147ca-313a-4ab4-b12d-a37821611c02",
   "metadata": {
    "tags": []
   },
   "outputs": [
    {
     "data": {
      "text/plain": [
       "[(1, 3, 6), (2, 4, 7)]"
      ]
     },
     "execution_count": 73,
     "metadata": {},
     "output_type": "execute_result"
    }
   ],
   "source": [
    "list(zip([1,2],[3,4,5],[6,7]))"
   ]
  },
  {
   "cell_type": "code",
   "execution_count": 76,
   "id": "f04440aa-30a1-4bc7-b38b-675f9e3c6338",
   "metadata": {
    "tags": []
   },
   "outputs": [],
   "source": [
    "def palindrome(s):\n",
    "    \"\"\"Return wether s is the same backward and forward \n",
    "    >>>palindrome([3,1,4,1,5])\n",
    "    False\n",
    "    >>>palindrome([3,1,4,1,3])\n",
    "    True\n",
    "    \"\"\"\n",
    "    ##method1:\n",
    "    return s==list(reversed(s))"
   ]
  },
  {
   "cell_type": "code",
   "execution_count": 75,
   "id": "7fddbd85-3f45-47d2-b724-23c161e5f39f",
   "metadata": {
    "tags": []
   },
   "outputs": [
    {
     "data": {
      "text/plain": [
       "False"
      ]
     },
     "execution_count": 75,
     "metadata": {},
     "output_type": "execute_result"
    }
   ],
   "source": [
    "palindrome([3,1,4,1,5])"
   ]
  },
  {
   "cell_type": "code",
   "execution_count": 77,
   "id": "62fea0f5-cb97-4d5f-861d-637d530d7d57",
   "metadata": {
    "tags": []
   },
   "outputs": [
    {
     "data": {
      "text/plain": [
       "True"
      ]
     },
     "execution_count": 77,
     "metadata": {},
     "output_type": "execute_result"
    }
   ],
   "source": [
    "palindrome([3,1,4,1,3])"
   ]
  },
  {
   "cell_type": "code",
   "execution_count": 78,
   "id": "66bd9f24-b9ab-4025-9396-9ef4b0e89244",
   "metadata": {
    "tags": []
   },
   "outputs": [],
   "source": [
    "##Second method\n",
    "def palindrome(s):\n",
    "    return all([a==b for a,b in zip(s,reversed(s))])"
   ]
  },
  {
   "cell_type": "code",
   "execution_count": 79,
   "id": "1f5cd5fd-516a-4c1f-a881-18c589bdf7b0",
   "metadata": {
    "tags": []
   },
   "outputs": [
    {
     "data": {
      "text/plain": [
       "True"
      ]
     },
     "execution_count": 79,
     "metadata": {},
     "output_type": "execute_result"
    }
   ],
   "source": [
    "palindrome([3,1,4,1,3])"
   ]
  },
  {
   "cell_type": "code",
   "execution_count": 83,
   "id": "e342f354-0b85-4a56-b08c-0fbf84bf9715",
   "metadata": {
    "tags": []
   },
   "outputs": [],
   "source": [
    "lst=[3,1,4,1,3]"
   ]
  },
  {
   "cell_type": "code",
   "execution_count": 85,
   "id": "628bd98e-e24b-4b61-b07a-ce233cee1273",
   "metadata": {
    "tags": []
   },
   "outputs": [
    {
     "data": {
      "text/plain": [
       "[(3, 3), (1, 1), (4, 4), (1, 1), (3, 3)]"
      ]
     },
     "execution_count": 85,
     "metadata": {},
     "output_type": "execute_result"
    }
   ],
   "source": [
    "list(zip(lst,reversed(lst)))"
   ]
  },
  {
   "cell_type": "code",
   "execution_count": null,
   "id": "dacd7bd0-792f-4e3f-9652-3f46a63f6b38",
   "metadata": {},
   "outputs": [],
   "source": []
  }
 ],
 "metadata": {
  "kernelspec": {
   "display_name": "Python 3 (ipykernel)",
   "language": "python",
   "name": "python3"
  },
  "language_info": {
   "codemirror_mode": {
    "name": "ipython",
    "version": 3
   },
   "file_extension": ".py",
   "mimetype": "text/x-python",
   "name": "python",
   "nbconvert_exporter": "python",
   "pygments_lexer": "ipython3",
   "version": "3.11.4"
  }
 },
 "nbformat": 4,
 "nbformat_minor": 5
}
